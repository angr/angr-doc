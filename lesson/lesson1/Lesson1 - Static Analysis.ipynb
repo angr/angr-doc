{
 "cells": [
  {
   "cell_type": "code",
   "execution_count": 1,
   "metadata": {
    "collapsed": true
   },
   "outputs": [],
   "source": [
    "from pprint import pprint\n",
    "import angr"
   ]
  },
  {
   "cell_type": "code",
   "execution_count": 2,
   "metadata": {
    "collapsed": true
   },
   "outputs": [],
   "source": [
    "project = angr.Project(\"fauxware\")"
   ]
  },
  {
   "cell_type": "code",
   "execution_count": 17,
   "metadata": {
    "collapsed": false
   },
   "outputs": [
    {
     "name": "stderr",
     "output_type": "stream",
     "text": [
      "WARNING | 2017-01-17 13:25:21,269 | \u001b[32mangr.analyses.cfg_fast\u001b[0m | \u001b[32m\"auto_load_libs\" is enabled. With libraries loaded in project, CFGFast will cover libraries, which may take significantly more time than expected. You may reload the binary with \"auto_load_libs\" disabled, or specify \"start\" and \"end\" paramenters to limit the scope of CFG recovery.\u001b[0m\n"
     ]
    }
   ],
   "source": [
    "cfg = project.analyses.CFG(collect_data_references = True)"
   ]
  },
  {
   "cell_type": "code",
   "execution_count": 18,
   "metadata": {
    "collapsed": false
   },
   "outputs": [
    {
     "name": "stdout",
     "output_type": "stream",
     "text": [
      "There are 92 nodes\n",
      "The first five nodes are\n",
      "[<CFGNode 0x4005ab (1) [0]>,\n",
      " <CFGNode _fini+0x9 (0x4008c1 5) [0]>,\n",
      " <CFGNode authenticate (0x400664 42) [0]>,\n",
      " <CFGNode __do_global_dtors_aux+0x32 (0x400602 6) [0]>,\n",
      " <CFGNode accepted (0x4006ed 14) [0]>,\n",
      " <CFGNode frame_dummy+0x20 (0x400660 2) [0]>,\n",
      " <CFGNode __do_global_ctors_aux+0x26 (0x4008a6 9) [0]>,\n",
      " <CFGNode __libc_csu_init+0x45 (0x400825 5) [0]>,\n",
      " <CFGNode main+0xa0 (0x4007bd 10) [0]>,\n",
      " <CFGNode 0x400530 (6) [0]>,\n",
      " <CFGNode authenticate+0x2e (0x400692 7) [0]>,\n",
      " <CFGNode call_gmon_start+0x10 (0x4005bc 2) [0]>,\n",
      " <CFGNode frame_dummy+0x18 (0x400658 8) [0]>,\n",
      " <CFGNode main+0xac (0x4007c9 10) [0]>,\n",
      " <CFGNode main+0xb6 (0x4007d3 2) [0]>,\n",
      " <CFGNode 0x4005c3 (13) [0]>,\n",
      " <CFGNode 0x400566 (10) [0]>,\n",
      " <CFGNode _fini (0x4008b8 9) [0]>,\n",
      " <CFGNode authenticate+0x2a (0x40068e 4) [0]>,\n",
      " <CFGNode __do_global_ctors_aux (0x400880 22) [0]>,\n",
      " <CFGNode 0x400872 (14) [0]>,\n",
      " <CFGNode 0x400516 (10) [0]>,\n",
      " <CFGNode _init+0xe (0x4004ee 5) [0]>,\n",
      " <CFGNode __libc_csu_init (0x4007e0 69) [0]>,\n",
      " <CFGNode main+0x4d (0x40076a 10) [0]>,\n",
      " <CFGNode __do_global_dtors_aux+0x56 (0x400626 14) [0]>,\n",
      " <CFGNode authenticate+0x4b (0x4006af 25) [0]>,\n",
      " <CFGNode 0x400634 (12) [0]>,\n",
      " <CFGNode call_gmon_start+0x12 (0x4005be 5) [0]>,\n",
      " <CFGNode _init+0x9 (0x4004e9 5) [0]>,\n",
      " <CFGNode _init+0x13 (0x4004f3 5) [0]>,\n",
      " <CFGNode __do_global_dtors_aux+0x38 (0x400608 18) [0]>,\n",
      " <CFGNode frame_dummy (0x400640 14) [0]>,\n",
      " <CFGNode accepted+0xe (0x4006fb 2) [0]>,\n",
      " <CFGNode 0x400510 (6) [0]>,\n",
      " <CFGNode __do_global_dtors_aux+0x4a (0x40061a 12) [0]>,\n",
      " <CFGNode 0x400869 (7) [0]>,\n",
      " <CFGNode 0x400662 (2) [0]>,\n",
      " <CFGNode main+0x83 (0x4007a0 19) [0]>,\n",
      " <CFGNode authenticate+0x35 (0x400699 22) [0]>,\n",
      " <CFGNode authenticate+0x82 (0x4006e6 7) [0]>,\n",
      " <CFGNode exit (0x4000050 0) [0]>,\n",
      " <CFGNode main+0x57 (0x400774 22) [0]>,\n",
      " <CFGNode rejected (0x4006fd 22) [0]>,\n",
      " <CFGNode 0x400570 (6) [0]>,\n",
      " <CFGNode main+0xaa (0x4007c7 2) [0]>,\n",
      " <CFGNode 0x4005a9 (2) [0]>,\n",
      " <CFGNode strcmp (0x4000070 0) [0]>,\n",
      " <CFGNode authenticate+0x87 (0x4006eb 2) [0]>,\n",
      " <CFGNode 0x400546 (10) [0]>,\n",
      " <CFGNode __do_global_dtors_aux+0x12 (0x4005e2 32) [0]>,\n",
      " <CFGNode __do_global_dtors_aux (0x4005d0 18) [0]>,\n",
      " <CFGNode rejected+0x16 (0x400713 10) [0]>,\n",
      " <CFGNode __do_global_ctors_aux+0x16 (0x400896 16) [0]>,\n",
      " <CFGNode 0x40050c (4) [0]>,\n",
      " <CFGNode 0x400560 (6) [0]>,\n",
      " <CFGNode main+0x21 (0x40073e 22) [0]>,\n",
      " <CFGNode __libc_csu_init+0x50 (0x400830 13) [0]>,\n",
      " <CFGNode 0x400576 (10) [0]>,\n",
      " <CFGNode 0x400556 (10) [0]>,\n",
      " <CFGNode __libc_start_main (0x4000020 0) [0]>,\n",
      " <CFGNode authenticate+0x7b (0x4006df 7) [0]>,\n",
      " <CFGNode open (0x4000060 0) [0]>,\n",
      " <CFGNode 0x400520 (6) [0]>,\n",
      " <CFGNode printf (0x4000040 0) [0]>,\n",
      " <CFGNode 0x400536 (10) [0]>,\n",
      " <CFGNode _start (0x400580 41) [0]>,\n",
      " <CFGNode main+0x6d (0x40078a 22) [0]>,\n",
      " <CFGNode 0x400550 (6) [0]>,\n",
      " <CFGNode __do_global_ctors_aux+0x2f (0x4008af 7) [0]>,\n",
      " <CFGNode _init (0x4004e0 9) [0]>,\n",
      " <CFGNode UnresolvableTarget (0x40000f0 0) [0]>,\n",
      " <CFGNode read (0x4000010 0) [0]>,\n",
      " <CFGNode 0x400526 (10) [0]>,\n",
      " <CFGNode 0x4007d5 (11) [0]>,\n",
      " <CFGNode __libc_csu_init+0x5d (0x40083d 9) [0]>,\n",
      " <CFGNode puts (0x4000000 0) [0]>,\n",
      " <CFGNode frame_dummy+0xe (0x40064e 10) [0]>,\n",
      " <CFGNode 0x400540 (6) [0]>,\n",
      " <CFGNode main (0x40071d 33) [0]>,\n",
      " <CFGNode __do_global_dtors_aux+0x5d (0x40062d 7) [0]>,\n",
      " <CFGNode __do_global_ctors_aux+0x20 (0x4008a0 6) [0]>,\n",
      " <CFGNode __libc_csu_init+0x4a (0x40082a 19) [0]>,\n",
      " <CFGNode authenticate+0x77 (0x4006db 4) [0]>,\n",
      " <CFGNode __libc_csu_fini (0x400870 2) [0]>,\n",
      " <CFGNode call_gmon_start (0x4005ac 16) [0]>,\n",
      " <CFGNode main+0x96 (0x4007b3 10) [0]>,\n",
      " <CFGNode 0x4008b6 (2) [0]>,\n",
      " <CFGNode authenticate+0x64 (0x4006c8 19) [0]>,\n",
      " <CFGNode  (0x400500 12) [0]>,\n",
      " <CFGNode __libc_csu_init+0x66 (0x400846 35) [0]>,\n",
      " <CFGNode main+0x37 (0x400754 22) [0]>]\n"
     ]
    }
   ],
   "source": [
    "all_nodes = cfg.nodes()\n",
    "print \"There are %d nodes\" %len(all_nodes)\n",
    "print \"The first five nodes are\"\n",
    "pprint(all_nodes)"
   ]
  },
  {
   "cell_type": "markdown",
   "metadata": {},
   "source": [
    "NOTE TO SELF : what do these things mean?\n",
    "What is a fake return?\n",
    "Let's look at the first node of the main function, which is 0x40071d"
   ]
  },
  {
   "cell_type": "markdown",
   "metadata": {},
   "source": [
    "predecessors and successors"
   ]
  },
  {
   "cell_type": "code",
   "execution_count": 19,
   "metadata": {
    "collapsed": false
   },
   "outputs": [
    {
     "name": "stdout",
     "output_type": "stream",
     "text": [
      "Node 0x40071d: <CFGNode main (0x40071d 33) [0]>\n"
     ]
    }
   ],
   "source": [
    "main_first_node=  cfg.get_node(0x40071d)\n",
    "print \"Node 0x40071d: %s\" %main_first_node\n"
   ]
  },
  {
   "cell_type": "code",
   "execution_count": 20,
   "metadata": {
    "collapsed": false
   },
   "outputs": [
    {
     "name": "stdout",
     "output_type": "stream",
     "text": [
      "All successors to node <CFGNode main (0x40071d 33) [0]> are : \n",
      "[<CFGNode main+0x21 (0x40073e 22) [0]>, <CFGNode 0x400510 (6) [0]>]\n"
     ]
    }
   ],
   "source": [
    "successors = cfg.get_successors(main_first_node, excluding_fakeret=False)\n",
    "print \"All successors to node %s are : \" %main_first_node\n",
    "pprint(successors)"
   ]
  },
  {
   "cell_type": "code",
   "execution_count": 21,
   "metadata": {
    "collapsed": false
   },
   "outputs": [
    {
     "name": "stdout",
     "output_type": "stream",
     "text": [
      "[<CFGNode 0x400510 (6) [0]>]\n"
     ]
    }
   ],
   "source": [
    "successors_2 = main_first_node.successors\n",
    "pprint(successors_2)"
   ]
  },
  {
   "cell_type": "code",
   "execution_count": 22,
   "metadata": {
    "collapsed": false
   },
   "outputs": [
    {
     "name": "stdout",
     "output_type": "stream",
     "text": [
      "Here are all indirect jumps from the binary\n",
      "{4195584: <IndirectJump 0x400500 - ins 0x400506>,\n",
      " 4195596: <IndirectJump 0x40050c - ins 0x400510>,\n",
      " 4195600L: <IndirectJump 0x400510 - ins 0x400510>,\n",
      " 4195616L: <IndirectJump 0x400520 - ins 0x400520>,\n",
      " 4195632L: <IndirectJump 0x400530 - ins 0x400530>,\n",
      " 4195648L: <IndirectJump 0x400540 - ins 0x400540>,\n",
      " 4195664L: <IndirectJump 0x400550 - ins 0x400550>,\n",
      " 4195680L: <IndirectJump 0x400560 - ins 0x400560>,\n",
      " 4195696L: <IndirectJump 0x400570 - ins 0x400570>,\n",
      " 4195772L: <IndirectJump 0x4005bc - ins 0x4005bc>,\n",
      " 4195842L: <IndirectJump 0x400602 - ins 0x400613>,\n",
      " 4195848L: <IndirectJump 0x400608 - ins 0x400613>,\n",
      " 4195928L: <IndirectJump 0x400658 - ins 0x40065e>,\n",
      " 4196394L: <IndirectJump 0x40082a - ins 0x400839>,\n",
      " 4196400L: <IndirectJump 0x400830 - ins 0x400839>,\n",
      " 4196502L: <IndirectJump 0x400896 - ins 0x4008a4>,\n",
      " 4196512L: <IndirectJump 0x4008a0 - ins 0x4008a4>}\n",
      "Here are all recovered memory data from the binary\n",
      "{4194872: \\0x400238, 28 bytes, string/,\n",
      " 4194900: \\0x400254, 32 bytes, unknown/,\n",
      " 4194932: \\0x400274, 36 bytes, unknown/,\n",
      " 4194968: \\0x400298, 28 bytes, unknown/,\n",
      " 4195000: \\0x4002b8, 216 bytes, unknown/,\n",
      " 4195216: \\0x400390, 90 bytes, unknown/,\n",
      " 4195306: \\0x4003ea, 18 bytes, unknown/,\n",
      " 4195328: \\0x400400, 32 bytes, unknown/,\n",
      " 4195360: \\0x400420, 8 bytes, pointer-array/,\n",
      " 4195368: \\0x400428, 16 bytes, None/,\n",
      " 4195384: \\0x400438, 8 bytes, pointer-array/,\n",
      " 4195392: \\0x400440, 160 bytes, None/,\n",
      " 4195561L: \\0x4004e9, 0 bytes, code reference/,\n",
      " 4195566L: \\0x4004ee, 0 bytes, code reference/,\n",
      " 4195571L: \\0x4004f3, 0 bytes, code reference/,\n",
      " 4195753L: \\0x4005a9, 0 bytes, code reference/,\n",
      " 4195774L: \\0x4005be, 0 bytes, code reference/,\n",
      " 4195866L: \\0x40061a, 0 bytes, code reference/,\n",
      " 4195982L: \\0x40068e, 0 bytes, code reference/,\n",
      " 4196015L: \\0x4006af, 0 bytes, code reference/,\n",
      " 4196040L: \\0x4006c8, 0 bytes, code reference/,\n",
      " 4196059L: \\0x4006db, 0 bytes, code reference/,\n",
      " 4196091L: \\0x4006fb, 0 bytes, code reference/,\n",
      " 4196115L: \\0x400713, 0 bytes, code reference/,\n",
      " 4196125L: \\0x40071d, 0 bytes, code reference/,\n",
      " 4196158L: \\0x40073e, 0 bytes, code reference/,\n",
      " 4196180L: \\0x400754, 0 bytes, code reference/,\n",
      " 4196202L: \\0x40076a, 0 bytes, code reference/,\n",
      " 4196212L: \\0x400774, 0 bytes, code reference/,\n",
      " 4196234L: \\0x40078a, 0 bytes, code reference/,\n",
      " 4196256L: \\0x4007a0, 0 bytes, code reference/,\n",
      " 4196275L: \\0x4007b3, 0 bytes, code reference/,\n",
      " 4196295L: \\0x4007c7, 0 bytes, code reference/,\n",
      " 4196307L: \\0x4007d3, 0 bytes, code reference/,\n",
      " 4196320L: \\0x4007e0, 0 bytes, code reference/,\n",
      " 4196389L: \\0x400825, 0 bytes, code reference/,\n",
      " 4196413L: \\0x40083d, 0 bytes, code reference/,\n",
      " 4196464L: \\0x400870, 0 bytes, code reference/,\n",
      " 4196518L: \\0x4008a6, 0 bytes, code reference/,\n",
      " 4196545L: \\0x4008c1, 0 bytes, code reference/,\n",
      " 4196552: \\0x4008c8, 8 bytes, unknown/,\n",
      " 4196560: \\0x4008d0, 9 bytes, string/,\n",
      " 4196569: \\0x4008d9, 7 bytes, None/,\n",
      " 4196576L: \\0x4008e0, 44 bytes, string/,\n",
      " 4196620L: \\0x40090c, 9 bytes, string/,\n",
      " 4196629L: \\0x400915, 11 bytes, string/,\n",
      " 4196640L: \\0x400920, 11 bytes, string/,\n",
      " 4196652: \\0x40092c, 68 bytes, unknown/,\n",
      " 4196720: \\0x400970, 260 bytes, unknown/,\n",
      " 6295080L: \\0x600e28, 16 bytes, integer/,\n",
      " 6295096L: \\0x600e38, 16 bytes, unknown/,\n",
      " 6295112L: \\0x600e48, 8 bytes, integer/,\n",
      " 6295120: \\0x600e50, 400 bytes, unknown/,\n",
      " 6295520L: \\0x600fe0, 8 bytes, integer/,\n",
      " 6295528: \\0x600fe8, 8 bytes, pointer-array/,\n",
      " 6295536L: \\0x600ff0, 8 bytes, integer/,\n",
      " 6295544L: \\0x600ff8, 8 bytes, integer/,\n",
      " 6295552L: \\0x601000, 8 bytes, GOT PLT Entry/,\n",
      " 6295560L: \\0x601008, 8 bytes, GOT PLT Entry/,\n",
      " 6295568L: \\0x601010, 8 bytes, GOT PLT Entry/,\n",
      " 6295576L: \\0x601018, 8 bytes, GOT PLT Entry/,\n",
      " 6295584L: \\0x601020, 8 bytes, GOT PLT Entry/,\n",
      " 6295592L: \\0x601028, 8 bytes, GOT PLT Entry/,\n",
      " 6295600L: \\0x601030, 8 bytes, GOT PLT Entry/,\n",
      " 6295608: \\0x601038, 16 bytes, unknown/,\n",
      " 6295624L: \\0x601048, 8 bytes, pointer-array/,\n",
      " 6295632L: \\0x601050, 1 bytes, integer/,\n",
      " 6295633L: \\0x601051, 7 bytes, None/,\n",
      " 6295640L: \\0x601058, 8 bytes, integer/}\n",
      "Here is a mapping between instructin address and memory data\n",
      "{4195556L: \\0x4004e9, 0 bytes, code reference/,\n",
      " 4195561L: \\0x4004ee, 0 bytes, code reference/,\n",
      " 4195566L: \\0x4004f3, 0 bytes, code reference/,\n",
      " 4195584L: \\0x600ff0, 8 bytes, integer/,\n",
      " 4195590L: \\0x600ff8, 8 bytes, integer/,\n",
      " 4195600L: \\0x601000, 8 bytes, GOT PLT Entry/,\n",
      " 4195616L: \\0x601008, 8 bytes, GOT PLT Entry/,\n",
      " 4195632L: \\0x601010, 8 bytes, GOT PLT Entry/,\n",
      " 4195648L: \\0x601018, 8 bytes, GOT PLT Entry/,\n",
      " 4195664L: \\0x601020, 8 bytes, GOT PLT Entry/,\n",
      " 4195680L: \\0x601028, 8 bytes, GOT PLT Entry/,\n",
      " 4195696L: \\0x601030, 8 bytes, GOT PLT Entry/,\n",
      " 4195727L: \\0x400870, 0 bytes, code reference/,\n",
      " 4195734L: \\0x4007e0, 0 bytes, code reference/,\n",
      " 4195741L: \\0x40071d, 0 bytes, code reference/,\n",
      " 4195748L: \\0x4005a9, 0 bytes, code reference/,\n",
      " 4195760L: \\0x600fe0, 8 bytes, integer/,\n",
      " 4195772L: \\0x4005be, 0 bytes, code reference/,\n",
      " 4195801L: \\0x601050, 1 bytes, integer/,\n",
      " 4195815L: \\0x601058, 8 bytes, integer/,\n",
      " 4195852L: \\0x601058, 8 bytes, integer/,\n",
      " 4195859L: \\0x40061a, 0 bytes, code reference/,\n",
      " 4195866L: \\0x601058, 8 bytes, integer/,\n",
      " 4195878L: \\0x601050, 1 bytes, integer/,\n",
      " 4195904L: \\0x600e48, 8 bytes, integer/,\n",
      " 4195929L: \\0x600e48, 8 bytes, integer/,\n",
      " 4195960L: \\0x601048, 8 bytes, pointer-array/,\n",
      " 4195977L: \\0x40068e, 0 bytes, code reference/,\n",
      " 4196010L: \\0x4006af, 0 bytes, code reference/,\n",
      " 4196035L: \\0x4006c8, 0 bytes, code reference/,\n",
      " 4196054L: \\0x4006db, 0 bytes, code reference/,\n",
      " 4196081L: \\0x4008e0, 44 bytes, string/,\n",
      " 4196086L: \\0x4006fb, 0 bytes, code reference/,\n",
      " 4196102L: \\0x40090c, 9 bytes, string/,\n",
      " 4196110L: \\0x400713, 0 bytes, code reference/,\n",
      " 4196120L: \\0x40071d, 0 bytes, code reference/,\n",
      " 4196148L: \\0x400915, 11 bytes, string/,\n",
      " 4196153L: \\0x40073e, 0 bytes, code reference/,\n",
      " 4196175L: \\0x400754, 0 bytes, code reference/,\n",
      " 4196197L: \\0x40076a, 0 bytes, code reference/,\n",
      " 4196202L: \\0x400920, 11 bytes, string/,\n",
      " 4196207L: \\0x400774, 0 bytes, code reference/,\n",
      " 4196229L: \\0x40078a, 0 bytes, code reference/,\n",
      " 4196251L: \\0x4007a0, 0 bytes, code reference/,\n",
      " 4196270L: \\0x4007b3, 0 bytes, code reference/,\n",
      " 4196290L: \\0x4007c7, 0 bytes, code reference/,\n",
      " 4196302L: \\0x4007d3, 0 bytes, code reference/,\n",
      " 4196384L: \\0x400825, 0 bytes, code reference/,\n",
      " 4196409L: \\0x40083d, 0 bytes, code reference/,\n",
      " 4196489L: \\0x600e28, 16 bytes, integer/,\n",
      " 4196512L: \\0x600e28, 16 bytes, integer/,\n",
      " 4196516L: \\0x4008a6, 0 bytes, code reference/,\n",
      " 4196540L: \\0x4008c1, 0 bytes, code reference/}\n"
     ]
    }
   ],
   "source": [
    "# INDIRECT JUMPS\n",
    "indirect_jumps = cfg.indirect_jumps\n",
    "print(\"Here are all indirect jumps from the binary\")\n",
    "pprint (indirect_jumps)\n",
    "\n",
    "# RECOVER MEMORY DATA\n",
    "memory_data = cfg.memory_data\n",
    "print(\"Here are all recovered memory data from the binary\")\n",
    "pprint(memory_data)\n",
    "# MAPPING BETWEEN INSTRUCTINS AND MEMORY \n",
    "ins_to_memdata = cfg._insn_addr_to_memory_data\n",
    "print(\"Here is a mapping between instructin address and memory data\")\n",
    "pprint(ins_to_memdata)"
   ]
  },
  {
   "cell_type": "code",
   "execution_count": 28,
   "metadata": {
    "collapsed": false
   },
   "outputs": [
    {
     "name": "stdout",
     "output_type": "stream",
     "text": [
      "authenticate+0x35:\t\tstate <simuvex.s_state.SimState object at 0x7f98b9cd00a0>, eax <BV32 Reverse(Reverse(strncmp_ret_823_64)[63:32])>, ecx <BV32 0x4007e0>\n",
      "read:\t\tstate <simuvex.s_state.SimState object at 0x7f98ba558b40>, eax <BV32 0x3>, ecx <BV32 0xfffeff08>\n",
      "__libc_csu_init+0x50:\t\tstate <simuvex.s_state.SimState object at 0x7f98b9b69410>, eax <BV32 0xffffffff>, ecx <BV32 0x4007e0>\n",
      "main+0x37:\t\tstate <simuvex.s_state.SimState object at 0x7f98b9c28190>, eax <BV32 0x8>, ecx <BV32 0x4007e0>\n",
      "None:\t\tstate <simuvex.s_state.SimState object at 0x7f98bb3e9f50>, eax <BV32 0x0>, ecx <BV32 0x4007e0>\n",
      "rejected:\t\tstate <simuvex.s_state.SimState object at 0x7f98bb5fce10>, eax <BV32 0x0>, ecx <BV32 0x4007e0>\n",
      "None:\t\tstate <simuvex.s_state.SimState object at 0x7f98ba49d5a0>, eax <BV32 0x1>, ecx <BV32 0x4007e0>\n",
      "accepted+0xe:\t\tstate <simuvex.s_state.SimState object at 0x7f98baefff50>, eax <BV32 Reverse(Reverse(puts_828_64)[63:32])>, ecx <BV32 0x4007e0>\n",
      "call_gmon_start:\t\tstate <simuvex.s_state.SimState object at 0x7f98bba4bb40>, eax <BV32 0x1c>, ecx <BV32 0x4007e0>\n",
      "__do_global_ctors_aux+0x20:\t\tstate <simuvex.s_state.SimState object at 0x7f98b9c289b0>, eax <BV32 Reverse(Reverse(mem_600e20_831_64)[63:32])>, ecx <BV32 0x4007e0>\n",
      "PathTerminator:\t\tstate <simuvex.s_state.SimState object at 0x7f98ba4e0870>, eax <BV32 0x1c>, ecx <BV32 reg_18_948_32>\n",
      "main+0x4d:\t\tstate <simuvex.s_state.SimState object at 0x7f98ba49dcd0>, eax <BV32 0x1>, ecx <BV32 0x4007e0>\n",
      "__do_global_ctors_aux+0x16:\t\tstate <simuvex.s_state.SimState object at 0x7f98ba2e6230>, eax <BV32 0xffffffff>, ecx <BV32 0x4007e0>\n",
      "authenticate:\t\tstate <simuvex.s_state.SimState object at 0x7f98b9c90820>, eax <BV32 0xfffeff58>, ecx <BV32 0x4007e0>\n",
      "_init+0xe:\t\tstate <simuvex.s_state.SimState object at 0x7f98ba16dfa0>, eax <BV32 0x0>, ecx <BV32 0x4007e0>\n",
      "rejected+0x16:\t\tstate <simuvex.s_state.SimState object at 0x7f98ba4ebe60>, eax <BV32 0x8>, ecx <BV32 0x4007e0>\n",
      "authenticate+0x64:\t\tstate <simuvex.s_state.SimState object at 0x7f98ba5ca0a0>, eax <BV32 0x8>, ecx <BV32 0xfffeff08>\n",
      "__do_global_ctors_aux+0x26:\t\tstate <simuvex.s_state.SimState object at 0x7f98bbac95a0>, eax <BV32 0xffffffff>, ecx <BV32 0x4007e0>\n",
      "authenticate+0x7b:\t\tstate <simuvex.s_state.SimState object at 0x7f98baed1410>, eax <BV32 Reverse(Reverse(strncmp_ret_830_64)[63:32])>, ecx <BV32 0xfffeff08>\n",
      "read:\t\tstate <simuvex.s_state.SimState object at 0x7f98b9b6c8c0>, eax <BV32 0xfffeff48>, ecx <BV32 0x4007e0>\n",
      "main+0x83:\t\tstate <simuvex.s_state.SimState object at 0x7f98b9c25410>, eax <BV32 0x1>, ecx <BV32 0x4007e0>\n",
      "frame_dummy+0x20:\t\tstate <simuvex.s_state.SimState object at 0x7f98bb990d70>, eax <BV32 0x0>, ecx <BV32 0x4007e0>\n",
      "authenticate+0x82:\t\tstate <simuvex.s_state.SimState object at 0x7f98ba57eb40>, eax <BV32 Reverse(Reverse(strncmp_ret_830_64)[63:32])>, ecx <BV32 0xfffeff08>\n",
      "__libc_csu_init+0x45:\t\tstate <simuvex.s_state.SimState object at 0x7f98b9b69a00>, eax <BV32 0xffffffff>, ecx <BV32 0x4007e0>\n",
      "_init:\t\tstate <simuvex.s_state.SimState object at 0x7f98bba4b690>, eax <BV32 0x1c>, ecx <BV32 0x4007e0>\n",
      "read:\t\tstate <simuvex.s_state.SimState object at 0x7f98ba5581e0>, eax <BV32 0xfffeff44>, ecx <BV32 0x4007e0>\n",
      "main+0x96:\t\tstate <simuvex.s_state.SimState object at 0x7f98bb0956e0>, eax <BV32 0x1>, ecx <BV32 0x4007e0>\n",
      "_init+0x9:\t\tstate <simuvex.s_state.SimState object at 0x7f98bba4bdc0>, eax <BV32 0x0>, ecx <BV32 0x4007e0>\n",
      "call_gmon_start+0x12:\t\tstate <simuvex.s_state.SimState object at 0x7f98bba4bfa0>, eax <BV32 0x0>, ecx <BV32 0x4007e0>\n",
      "__libc_start_main:\t\tstate <simuvex.s_state.SimState object at 0x7f98ba35cd70>, eax <BV32 0xffffffff>, ecx <BV32 0x4007e0>\n",
      "main+0xac:\t\tstate <simuvex.s_state.SimState object at 0x7f98bb5fcb40>, eax <BV32 0x1>, ecx <BV32 0x4007e0>\n",
      "accepted:\t\tstate <simuvex.s_state.SimState object at 0x7f98bb5fc050>, eax <BV32 0x0>, ecx <BV32 0x4007e0>\n",
      "__do_global_ctors_aux:\t\tstate <simuvex.s_state.SimState object at 0x7f98ba16d910>, eax <BV32 0x0>, ecx <BV32 0x4007e0>\n",
      "PathTerminator:\t\tstate <simuvex.s_state.SimState object at 0x7f98bbac9460>, eax <BV32 0x1c>, ecx <BV32 reg_18_949_32>\n",
      "None:\t\tstate <simuvex.s_state.SimState object at 0x7f98bbb4eb90>, eax <BV32 0x0>, ecx <BV32 0x4007e0>\n",
      "PathTerminator:\t\tstate <simuvex.s_state.SimState object at 0x7f98ba4e0dc0>, eax <BV32 0x1c>, ecx <BV32 reg_18_950_32>\n",
      "main+0xa0:\t\tstate <simuvex.s_state.SimState object at 0x7f98bb3e9b90>, eax <BV32 0x1>, ecx <BV32 0x4007e0>\n",
      "main+0x21:\t\tstate <simuvex.s_state.SimState object at 0x7f98b9a23b90>, eax <BV32 Reverse(Reverse(puts_809_64)[63:32])>, ecx <BV32 0x4007e0>\n",
      "None:\t\tstate <simuvex.s_state.SimState object at 0x7f98bbac9730>, eax <BV32 0x8>, ecx <BV32 0x4007e0>\n",
      "main+0xaa:\t\tstate <simuvex.s_state.SimState object at 0x7f98bafdcdc0>, eax <BV32 Reverse(Reverse(puts_828_64)[63:32])>, ecx <BV32 0x4007e0>\n",
      "None:\t\tstate <simuvex.s_state.SimState object at 0x7f98b9a230a0>, eax <BV32 0xfffeff44>, ecx <BV32 0x4007e0>\n",
      "__libc_start_main:\t\tstate <simuvex.s_state.SimState object at 0x7f98b9c283c0>, eax <BV32 0x1c>, ecx <BV32 0x4007e0>\n",
      "__libc_csu_init+0x66:\t\tstate <simuvex.s_state.SimState object at 0x7f98b9b69280>, eax <BV32 0xffffffff>, ecx <BV32 0x4007e0>\n",
      "strcmp:\t\tstate <simuvex.s_state.SimState object at 0x7f98b9c90dc0>, eax <BV32 0xfffeff48>, ecx <BV32 0x4007e0>\n",
      "frame_dummy:\t\tstate <simuvex.s_state.SimState object at 0x7f98bb9902d0>, eax <BV32 0x0>, ecx <BV32 0x4007e0>\n",
      "puts:\t\tstate <simuvex.s_state.SimState object at 0x7f98ba49d1e0>, eax <BV32 0x1>, ecx <BV32 0x4007e0>\n",
      "None:\t\tstate <simuvex.s_state.SimState object at 0x7f98b9c28910>, eax <BV32 0x1c>, ecx <BV32 0x4007e0>\n",
      "None:\t\tstate <simuvex.s_state.SimState object at 0x7f98bb3e9820>, eax <BV32 0x0>, ecx <BV32 0x4007e0>\n",
      "main+0xb6:\t\tstate <simuvex.s_state.SimState object at 0x7f98ba20bd20>, eax <BV32 Reverse(Reverse(puts_828_64)[63:32])>, ecx <BV32 0x4007e0>\n",
      "exit:\t\tstate <simuvex.s_state.SimState object at 0x7f98bb17e730>, eax <BV32 0x8>, ecx <BV32 0x4007e0>\n",
      "None:\t\tstate <simuvex.s_state.SimState object at 0x7f98b9c90460>, eax <BV32 0xfffeff48>, ecx <BV32 0x4007e0>\n",
      "puts:\t\tstate <simuvex.s_state.SimState object at 0x7f98b9c90370>, eax <BV32 0x0>, ecx <BV32 0x4007e0>\n",
      "read:\t\tstate <simuvex.s_state.SimState object at 0x7f98b9b451e0>, eax <BV32 0xfffeff58>, ecx <BV32 0x4007e0>\n",
      "strcmp:\t\tstate <simuvex.s_state.SimState object at 0x7f98b9c90c80>, eax <BV32 0xfffeff48>, ecx <BV32 0xfffeff08>\n",
      "_init+0x13:\t\tstate <simuvex.s_state.SimState object at 0x7f98b9b69d20>, eax <BV32 0xffffffff>, ecx <BV32 0x4007e0>\n",
      "__do_global_ctors_aux+0x2f:\t\tstate <simuvex.s_state.SimState object at 0x7f98ba2e65a0>, eax <BV32 0xffffffff>, ecx <BV32 0x4007e0>\n",
      "None:\t\tstate <simuvex.s_state.SimState object at 0x7f98bba4b140>, eax <BV32 0xfffeff48>, ecx <BV32 0x4007e0>\n",
      "frame_dummy+0x18:\t\tstate <simuvex.s_state.SimState object at 0x7f98bb990e60>, eax <BV32 0x0>, ecx <BV32 0x4007e0>\n",
      "None:\t\tstate <simuvex.s_state.SimState object at 0x7f98b9c90190>, eax <BV32 0xfffeff48>, ecx <BV32 0xfffeff08>\n",
      "None:\t\tstate <simuvex.s_state.SimState object at 0x7f98b9b6cd70>, eax <BV32 0x3>, ecx <BV32 0xfffeff08>\n",
      "call_gmon_start+0x10:\t\tstate <simuvex.s_state.SimState object at 0x7f98bba4bcd0>, eax <BV32 0x0>, ecx <BV32 0x4007e0>\n",
      "_start:\t\tstate <simuvex.s_state.SimState object at 0x7f98b9b6c910>, eax <BV32 0x1c>, ecx <BV32 Reverse(Reverse(reg_24_951_64)[63:32])>\n",
      "read:\t\tstate <simuvex.s_state.SimState object at 0x7f98bba4b050>, eax <BV32 0xfffeff44>, ecx <BV32 0x4007e0>\n",
      "frame_dummy+0xe:\t\tstate <simuvex.s_state.SimState object at 0x7f98bb990b90>, eax <BV32 0x0>, ecx <BV32 0x4007e0>\n",
      "puts:\t\tstate <simuvex.s_state.SimState object at 0x7f98b9acfd70>, eax <BV32 0xffffffff>, ecx <BV32 0x4007e0>\n",
      "printf:\t\tstate <simuvex.s_state.SimState object at 0x7f98bb3e9aa0>, eax <BV32 0x0>, ecx <BV32 0x4007e0>\n",
      "__libc_csu_init:\t\tstate <simuvex.s_state.SimState object at 0x7f98b9c28be0>, eax <BV32 0x1c>, ecx <BV32 0x4007e0>\n",
      "authenticate+0x87:\t\tstate <simuvex.s_state.SimState object at 0x7f98bb095280>, eax <BV32 0x1>, ecx <BV32 0x4007e0>\n",
      "None:\t\tstate <simuvex.s_state.SimState object at 0x7f98ba558e60>, eax <BV32 0xfffeff44>, ecx <BV32 0x4007e0>\n",
      "__libc_csu_init+0x5d:\t\tstate <simuvex.s_state.SimState object at 0x7f98bbb4ee10>, eax <BV32 0xffffffff>, ecx <BV32 0x4007e0>\n",
      "open:\t\tstate <simuvex.s_state.SimState object at 0x7f98ba5c3910>, eax <BV32 0x0>, ecx <BV32 0x4007e0>\n",
      "None:\t\tstate <simuvex.s_state.SimState object at 0x7f98b9b33780>, eax <BV32 0xfffeff58>, ecx <BV32 0x4007e0>\n",
      "__libc_csu_init+0x4a:\t\tstate <simuvex.s_state.SimState object at 0x7f98b9acfc80>, eax <BV32 0xffffffff>, ecx <BV32 0x4007e0>\n",
      "main:\t\tstate <simuvex.s_state.SimState object at 0x7f98b9acf230>, eax <BV32 0xffffffff>, ecx <BV32 0x4007e0>\n",
      "None:\t\tstate <simuvex.s_state.SimState object at 0x7f98b9b69a50>, eax <BV32 0xffffffff>, ecx <BV32 0x4007e0>\n",
      "authenticate+0x2e:\t\tstate <simuvex.s_state.SimState object at 0x7f98bbb4e230>, eax <BV32 Reverse(Reverse(strncmp_ret_823_64)[63:32])>, ecx <BV32 0x4007e0>\n",
      "main+0x57:\t\tstate <simuvex.s_state.SimState object at 0x7f98b9b6caa0>, eax <BV32 Reverse(Reverse(puts_815_64)[63:32])>, ecx <BV32 0x4007e0>\n",
      "authenticate+0x2a:\t\tstate <simuvex.s_state.SimState object at 0x7f98b9cd02d0>, eax <BV32 Reverse(Reverse(strncmp_ret_823_64)[63:32])>, ecx <BV32 0x4007e0>\n",
      "main+0x6d:\t\tstate <simuvex.s_state.SimState object at 0x7f98b9c90be0>, eax <BV32 0x8>, ecx <BV32 0x4007e0>\n",
      "authenticate+0x4b:\t\tstate <simuvex.s_state.SimState object at 0x7f98ba5ac460>, eax <BV32 0x3>, ecx <BV32 0x4007e0>\n",
      "authenticate+0x77:\t\tstate <simuvex.s_state.SimState object at 0x7f98baeff320>, eax <BV32 Reverse(Reverse(strncmp_ret_830_64)[63:32])>, ecx <BV32 0xfffeff08>\n"
     ]
    }
   ],
   "source": [
    "cfg2 = project.analyses.CFGAccurate(keep_state=True)\n",
    "if cfg2 is not None:\n",
    "    all_nodes = cfg2.nodes()\n",
    "    for n in all_nodes:\n",
    "        print(\"%s:\\t\\tstate %s, eax %s, ecx %s\" % (n.name, n.input_state, n.input_state.regs.eax, n.input_state.regs.ecx))"
   ]
  },
  {
   "cell_type": "code",
   "execution_count": 30,
   "metadata": {
    "collapsed": false
   },
   "outputs": [],
   "source": [
    "main_func = project.kb.functions.function(name='main')"
   ]
  },
  {
   "cell_type": "code",
   "execution_count": 32,
   "metadata": {
    "collapsed": false
   },
   "outputs": [
    {
     "name": "stderr",
     "output_type": "stream",
     "text": [
      "WARNING | 2017-01-17 13:44:43,915 | \u001b[31mangr.call_stack\u001b[0m | \u001b[31mReturning to an unexpected address 0x0\u001b[0m\n",
      "WARNING | 2017-01-17 13:44:43,989 | \u001b[31mangr.call_stack\u001b[0m | \u001b[31mReturning to an unexpected address 0x0\u001b[0m\n",
      "WARNING | 2017-01-17 13:44:44,249 | \u001b[36mangr.analyses.vfg\u001b[0m | \u001b[36mThe given CFG is not normalized, which might impact the performance/accuracy of the VFG analysis.\u001b[0m\n",
      "WARNING | 2017-01-17 13:44:44,288 | \u001b[33msimuvex.plugins.symbolic_memory\u001b[0m | \u001b[33mConcretizing symbolic length. Much sad; think about implementing.\u001b[0m\n",
      "WARNING | 2017-01-17 13:44:44,362 | \u001b[33msimuvex.plugins.symbolic_memory\u001b[0m | \u001b[33mConcretizing symbolic length. Much sad; think about implementing.\u001b[0m\n",
      "WARNING | 2017-01-17 13:44:44,646 | \u001b[33mclaripy.vsa.strided_interval\u001b[0m | \u001b[33mReversing a real strided-interval <128>0x1[0x0, 0xffffffffffffffff00ffffffffffffff](uninit) is bad\u001b[0m\n",
      "WARNING | 2017-01-17 13:44:44,649 | \u001b[33mclaripy.vsa.strided_interval\u001b[0m | \u001b[33mReversing a real strided-interval <192>0x1[0x0, 0xffffffffffffff00ffffffffffffffff]R(uninit) is bad\u001b[0m\n",
      "WARNING | 2017-01-17 13:44:44,655 | \u001b[33mclaripy.vsa.strided_interval\u001b[0m | \u001b[33mReversing a real strided-interval <192>0x100000000000000000000000000000000[0x0, 0xffffffffffffff00000000000000000000000000000000](uninit) is bad\u001b[0m\n",
      "WARNING | 2017-01-17 13:44:44,655 | \u001b[33mclaripy.vsa.strided_interval\u001b[0m | \u001b[33mTried to cast_low an interval to a an interval shorter than its stride.\u001b[0m\n",
      "WARNING | 2017-01-17 13:44:44,656 | \u001b[33mclaripy.vsa.strided_interval\u001b[0m | \u001b[33mTried to cast_low an interval to a an interval shorter than its stride.\u001b[0m\n",
      "WARNING | 2017-01-17 13:44:44,657 | \u001b[33mclaripy.vsa.strided_interval\u001b[0m | \u001b[33mTried to cast_low an interval to a an interval shorter than its stride.\u001b[0m\n",
      "WARNING | 2017-01-17 13:44:44,657 | \u001b[33mclaripy.vsa.strided_interval\u001b[0m | \u001b[33mTried to cast_low an interval to a an interval shorter than its stride.\u001b[0m\n",
      "WARNING | 2017-01-17 13:44:44,658 | \u001b[33mclaripy.vsa.strided_interval\u001b[0m | \u001b[33mTried to cast_low an interval to a an interval shorter than its stride.\u001b[0m\n",
      "WARNING | 2017-01-17 13:44:44,658 | \u001b[33mclaripy.vsa.strided_interval\u001b[0m | \u001b[33mTried to cast_low an interval to a an interval shorter than its stride.\u001b[0m\n",
      "WARNING | 2017-01-17 13:44:44,660 | \u001b[33mclaripy.vsa.strided_interval\u001b[0m | \u001b[33mTried to cast_low an interval to a an interval shorter than its stride.\u001b[0m\n",
      "WARNING | 2017-01-17 13:44:44,661 | \u001b[33mclaripy.vsa.strided_interval\u001b[0m | \u001b[33mTried to cast_low an interval to a an interval shorter than its stride.\u001b[0m\n",
      "WARNING | 2017-01-17 13:44:44,663 | \u001b[33mclaripy.vsa.strided_interval\u001b[0m | \u001b[33mTried to cast_low an interval to a an interval shorter than its stride.\u001b[0m\n",
      "WARNING | 2017-01-17 13:44:44,664 | \u001b[33mclaripy.vsa.strided_interval\u001b[0m | \u001b[33mTried to cast_low an interval to a an interval shorter than its stride.\u001b[0m\n",
      "WARNING | 2017-01-17 13:44:44,666 | \u001b[33mclaripy.vsa.strided_interval\u001b[0m | \u001b[33mTried to cast_low an interval to a an interval shorter than its stride.\u001b[0m\n",
      "WARNING | 2017-01-17 13:44:44,667 | \u001b[33mclaripy.vsa.strided_interval\u001b[0m | \u001b[33mTried to cast_low an interval to a an interval shorter than its stride.\u001b[0m\n",
      "WARNING | 2017-01-17 13:44:44,668 | \u001b[33mclaripy.vsa.strided_interval\u001b[0m | \u001b[33mTried to cast_low an interval to a an interval shorter than its stride.\u001b[0m\n",
      "WARNING | 2017-01-17 13:44:44,668 | \u001b[33mclaripy.vsa.strided_interval\u001b[0m | \u001b[33mTried to cast_low an interval to a an interval shorter than its stride.\u001b[0m\n",
      "WARNING | 2017-01-17 13:44:44,669 | \u001b[33mclaripy.vsa.strided_interval\u001b[0m | \u001b[33mTried to cast_low an interval to a an interval shorter than its stride.\u001b[0m\n",
      "WARNING | 2017-01-17 13:44:44,669 | \u001b[33mclaripy.vsa.strided_interval\u001b[0m | \u001b[33mTried to cast_low an interval to a an interval shorter than its stride.\u001b[0m\n",
      "WARNING | 2017-01-17 13:44:45,028 | \u001b[32msimuvex.plugins.posix\u001b[0m | \u001b[32mAccessing non-existing file with fd 3. Creating a new file.\u001b[0m\n",
      "WARNING | 2017-01-17 13:44:45,030 | \u001b[32msimuvex.storage.file\u001b[0m | \u001b[32mCheap HACK to support multiple file positions in a merge.\u001b[0m\n",
      "WARNING | 2017-01-17 13:44:45,502 | \u001b[33msimuvex.plugins.symbolic_memory\u001b[0m | \u001b[33mConcretizing symbolic length. Much sad; think about implementing.\u001b[0m\n"
     ]
    },
    {
     "name": "stdout",
     "output_type": "stream",
     "text": [
      "[VFGNode[0x400550] <<BlockID 0x400550 (None@0x40071dL -> 0x4007a0L@0x400664L -> 0x4006c8L@0x400550L) % normal>>,\n",
      " VFGNode[0x4000010] <<BlockID 0x4000010 (None@None -> None@0x40071dL -> 0x40078aL@0x400530L) % normal>>,\n",
      " VFGNode[0x4000000] <<BlockID 0x4000000 (None@0x40071dL -> 0x4007bdL@0x4006edL -> 0x4006edL@0x400510L) % normal>>,\n",
      " VFGNode[0x400570] <<BlockID 0x400570 (None@0x40071dL -> 0x4007c9L@0x4006fdL -> 0x400713L@0x400570L) % normal>>,\n",
      " VFGNode[0x4000050] <<BlockID 0x4000050 (None@0x40071dL -> 0x4007c9L@0x4006fdL -> 0x400713L@0x400570L) % exit>>,\n",
      " VFGNode[0x4000040] <<BlockID 0x4000040 (None@0x40071dL -> 0x4007c9L@0x4006fdL -> 0x4006fdL@0x400520L) % normal>>,\n",
      " VFGNode[0x400550] <<BlockID 0x400550 (None@0x40071dL -> 0x4007a0L@0x400664L -> 0x400664L@0x400550L) % normal>>,\n",
      " VFGNode[0x400713] <<BlockID 0x400713 (None@None -> None@0x40071dL -> 0x4007c9L@0x4006fdL) % normal>>,\n",
      " VFGNode[0x4000000] <<BlockID 0x4000000 (None@None -> None@0x40071dL -> 0x40076aL@0x400510L) % normal>>,\n",
      " VFGNode[0x400530] <<BlockID 0x400530 (None@None -> None@0x40071dL -> 0x400774L@0x400530L) % normal>>,\n",
      " VFGNode[0x4006db] <<BlockID 0x4006db (None@None -> None@0x40071dL -> 0x4007a0L@0x400664L) % normal>>,\n",
      " VFGNode[0x4000070] <<BlockID 0x4000070 (None@0x40071dL -> 0x4007a0L@0x400664L -> 0x4006c8L@0x400550L) % normal>>,\n",
      " VFGNode[0x400560] <<BlockID 0x400560 (None@0x40071dL -> 0x4007a0L@0x400664L -> 0x400699L@0x400560L) % normal>>,\n",
      " VFGNode[0x4000010] <<BlockID 0x4000010 (None@0x40071dL -> 0x4007a0L@0x400664L -> 0x4006afL@0x400530L) % normal>>,\n",
      " VFGNode[0x400530] <<BlockID 0x400530 (None@None -> None@0x40071dL -> 0x40078aL@0x400530L) % normal>>,\n",
      " VFGNode[0x400510] <<BlockID 0x400510 (None@None -> None@0x40071dL -> 0x40071dL@0x400510L) % normal>>,\n",
      " VFGNode[0x40071d] <<BlockID 0x40071d (None@None -> None@None -> None@0x40071dL) % normal>>,\n",
      " VFGNode[0x4006ed] <<BlockID 0x4006ed (None@None -> None@0x40071dL -> 0x4007bdL@0x4006edL) % normal>>,\n",
      " VFGNode[0x4006af] <<BlockID 0x4006af (None@None -> None@0x40071dL -> 0x4007a0L@0x400664L) % normal>>,\n",
      " VFGNode[0x4007c9] <<BlockID 0x4007c9 (None@None -> None@None -> None@0x40071dL) % normal>>,\n",
      " VFGNode[0x4000010] <<BlockID 0x4000010 (None@None -> None@0x40071dL -> 0x400774L@0x400530L) % normal>>,\n",
      " VFGNode[0x400520] <<BlockID 0x400520 (None@0x40071dL -> 0x4007c9L@0x4006fdL -> 0x4006fdL@0x400520L) % normal>>,\n",
      " VFGNode[0x400754] <<BlockID 0x400754 (None@None -> None@None -> None@0x40071dL) % normal>>,\n",
      " VFGNode[0x400664] <<BlockID 0x400664 (None@None -> None@0x40071dL -> 0x4007a0L@0x400664L) % normal>>,\n",
      " VFGNode[0x4007b3] <<BlockID 0x4007b3 (None@None -> None@None -> None@0x40071dL) % normal>>,\n",
      " VFGNode[0x4000010] <<BlockID 0x4000010 (None@None -> None@0x40071dL -> 0x40073eL@0x400530L) % normal>>,\n",
      " VFGNode[0x4006df] <<BlockID 0x4006df (None@None -> None@0x40071dL -> 0x4007a0L@0x400664L) % normal>>,\n",
      " VFGNode[0x400530] <<BlockID 0x400530 (None@0x40071dL -> 0x4007a0L@0x400664L -> 0x4006afL@0x400530L) % normal>>,\n",
      " VFGNode[0x400510] <<BlockID 0x400510 (None@None -> None@0x40071dL -> 0x40076aL@0x400510L) % normal>>,\n",
      " VFGNode[0x400699] <<BlockID 0x400699 (None@None -> None@0x40071dL -> 0x4007a0L@0x400664L) % normal>>,\n",
      " VFGNode[0x4007bd] <<BlockID 0x4007bd (None@None -> None@None -> None@0x40071dL) % normal>>,\n",
      " VFGNode[0x40076a] <<BlockID 0x40076a (None@None -> None@None -> None@0x40071dL) % normal>>,\n",
      " VFGNode[0x4006eb] <<BlockID 0x4006eb (None@None -> None@0x40071dL -> 0x4007a0L@0x400664L) % normal>>,\n",
      " VFGNode[0x40073e] <<BlockID 0x40073e (None@None -> None@None -> None@0x40071dL) % normal>>,\n",
      " VFGNode[0x4006fb] <<BlockID 0x4006fb (None@None -> None@0x40071dL -> 0x4007bdL@0x4006edL) % normal>>,\n",
      " VFGNode[0x400692] <<BlockID 0x400692 (None@None -> None@0x40071dL -> 0x4007a0L@0x400664L) % normal>>,\n",
      " VFGNode[0x4006e6] <<BlockID 0x4006e6 (None@None -> None@0x40071dL -> 0x4007a0L@0x400664L) % normal>>,\n",
      " VFGNode[0x400510] <<BlockID 0x400510 (None@0x40071dL -> 0x4007bdL@0x4006edL -> 0x4006edL@0x400510L) % normal>>,\n",
      " VFGNode[0x4007a0] <<BlockID 0x4007a0 (None@None -> None@None -> None@0x40071dL) % normal>>,\n",
      " VFGNode[0x4006fd] <<BlockID 0x4006fd (None@None -> None@0x40071dL -> 0x4007c9L@0x4006fdL) % normal>>,\n",
      " VFGNode[0x4000010] <<BlockID 0x4000010 (None@None -> None@0x40071dL -> 0x400754L@0x400530L) % normal>>,\n",
      " VFGNode[0x4000060] <<BlockID 0x4000060 (None@0x40071dL -> 0x4007a0L@0x400664L -> 0x400699L@0x400560L) % normal>>,\n",
      " VFGNode[0x400774] <<BlockID 0x400774 (None@None -> None@None -> None@0x40071dL) % normal>>,\n",
      " VFGNode[0x400530] <<BlockID 0x400530 (None@None -> None@0x40071dL -> 0x40073eL@0x400530L) % normal>>,\n",
      " VFGNode[0x4006c8] <<BlockID 0x4006c8 (None@None -> None@0x40071dL -> 0x4007a0L@0x400664L) % normal>>,\n",
      " VFGNode[0x4007d3] <<BlockID 0x4007d3 (None@None -> None@None -> None@0x40071dL) % normal>>,\n",
      " VFGNode[0x40078a] <<BlockID 0x40078a (None@None -> None@None -> None@0x40071dL) % normal>>,\n",
      " VFGNode[0x4000050] <<BlockID 0x4000050 (None@0x40071dL -> 0x4007c9L@0x4006fdL -> 0x400713L@0x400570L) % normal>>,\n",
      " VFGNode[0x40068e] <<BlockID 0x40068e (None@None -> None@0x40071dL -> 0x4007a0L@0x400664L) % normal>>,\n",
      " VFGNode[0x4000070] <<BlockID 0x4000070 (None@0x40071dL -> 0x4007a0L@0x400664L -> 0x400664L@0x400550L) % normal>>,\n",
      " VFGNode[0x4000000] <<BlockID 0x4000000 (None@None -> None@0x40071dL -> 0x40071dL@0x400510L) % normal>>,\n",
      " VFGNode[0x4007c7] <<BlockID 0x4007c7 (None@None -> None@None -> None@0x40071dL) % normal>>,\n",
      " VFGNode[0x400530] <<BlockID 0x400530 (None@None -> None@0x40071dL -> 0x400754L@0x400530L) % normal>>]\n"
     ]
    }
   ],
   "source": [
    "vfg = project.analyses.VFG(start=main_func.addr, context_sensitivity_level=3,interfunction_level=3)\n",
    "pprint (vfg.graph.nodes())"
   ]
  },
  {
   "cell_type": "code",
   "execution_count": 35,
   "metadata": {
    "collapsed": false
   },
   "outputs": [
    {
     "data": {
      "text/plain": [
       "[<BlockNode at 0x4007d3 (size 2)>]"
      ]
     },
     "execution_count": 35,
     "metadata": {},
     "output_type": "execute_result"
    }
   ],
   "source": [
    "main_func.endpoints"
   ]
  },
  {
   "cell_type": "code",
   "execution_count": 38,
   "metadata": {
    "collapsed": false
   },
   "outputs": [],
   "source": [
    "last_node = vfg.get_any_node(0x4007d3)\n",
    "last_state = last_node.state"
   ]
  },
  {
   "cell_type": "code",
   "execution_count": 40,
   "metadata": {
    "collapsed": false
   },
   "outputs": [],
   "source": [
    "memory = last_state.memory # Now what can we do with this?"
   ]
  },
  {
   "cell_type": "code",
   "execution_count": 41,
   "metadata": {
    "collapsed": false
   },
   "outputs": [
    {
     "name": "stdout",
     "output_type": "stream",
     "text": [
      "{'global': <simuvex.plugins.abstract_memory.MemoryRegion object at 0x7f98b8396990>,\n",
      " 'stack_0x400664': <simuvex.plugins.abstract_memory.MemoryRegion object at 0x7f98b8396450>,\n",
      " 'stack_0x4006ed': <simuvex.plugins.abstract_memory.MemoryRegion object at 0x7f98b8396a90>,\n",
      " 'stack_0x40071d': <simuvex.plugins.abstract_memory.MemoryRegion object at 0x7f98b8396bd0>}\n"
     ]
    }
   ],
   "source": [
    "regions = memory.regions\n",
    "pprint(regions)"
   ]
  },
  {
   "cell_type": "code",
   "execution_count": 44,
   "metadata": {
    "collapsed": false
   },
   "outputs": [
    {
     "name": "stdout",
     "output_type": "stream",
     "text": [
      "Abstract locations of the main procedure are:\n",
      "{4195712: (400580h, 0) [],\n",
      " 4196125L: (40071dh, 5) [Seg (-0x8L [ 8 ])],\n",
      " 4196133L: (40071dh, 19) [Seg (-0x3cL [ 4 ])],\n",
      " 4196136L: (40071dh, 24) [Seg (-0x48L [ 8 ])],\n",
      " 4196140L: (40071dh, 28) [Seg (-0x10L [ 1 ])],\n",
      " 4196144L: (40071dh, 32) [Seg (-0x20L [ 1 ])],\n",
      " 4196153L: (40071dh, 39) [Seg (-0x50L [ 8 ])],\n",
      " 4196175L: (40073eh, 15) [Seg (-0x50L [ 8 ])],\n",
      " 4196197L: (400754h, 15) [Seg (-0x50L [ 8 ])],\n",
      " 4196207L: (40076ah, 7) [Seg (-0x50L [ 8 ])],\n",
      " 4196229L: (400774h, 15) [Seg (-0x50L [ 8 ])],\n",
      " 4196251L: (40078ah, 15) [Seg (-0x50L [ 8 ])],\n",
      " 4196270L: (4007a0h, 16) [Seg (-0x50L [ 8 ])],\n",
      " 4196275L: (4007b3h, 6) [Seg (-0x2cL [ 4 ])],\n",
      " 4196290L: (4007bdh, 7) [Seg (-0x50L [ 8 ])],\n",
      " 67108880L: (4000010h, -1) [Seg (-0x2cL [ 1 ]), Seg (-0x28L [ 8 ]), Seg (-0x18L [ 8 ])]}\n"
     ]
    },
    {
     "ename": "TypeError",
     "evalue": "'type' object is not iterable",
     "output_type": "error",
     "traceback": [
      "\u001b[0;31m---------------------------------------------------------------------------\u001b[0m",
      "\u001b[0;31mTypeError\u001b[0m                                 Traceback (most recent call last)",
      "\u001b[0;32m<ipython-input-44-6e66925c4d0f>\u001b[0m in \u001b[0;36m<module>\u001b[0;34m()\u001b[0m\n\u001b[1;32m     14\u001b[0m     \u001b[0;31m# let's do it here\u001b[0m\u001b[0;34m\u001b[0m\u001b[0;34m\u001b[0m\u001b[0m\n\u001b[1;32m     15\u001b[0m \u001b[0;34m\u001b[0m\u001b[0m\n\u001b[0;32m---> 16\u001b[0;31m     \u001b[0mstack_layout\u001b[0m \u001b[0;34m=\u001b[0m \u001b[0mdict\u001b[0m\u001b[0;34m(\u001b[0m\u001b[0mset\u001b[0m\u001b[0;34m)\u001b[0m  \u001b[0;31m# map offset to size\u001b[0m\u001b[0;34m\u001b[0m\u001b[0m\n\u001b[0m\u001b[1;32m     17\u001b[0m     \u001b[0;32mfor\u001b[0m \u001b[0maloc\u001b[0m \u001b[0;32min\u001b[0m \u001b[0malocs\u001b[0m\u001b[0;34m.\u001b[0m\u001b[0mvalues\u001b[0m\u001b[0;34m(\u001b[0m\u001b[0;34m)\u001b[0m\u001b[0;34m:\u001b[0m\u001b[0;34m\u001b[0m\u001b[0m\n\u001b[1;32m     18\u001b[0m         \u001b[0;32mfor\u001b[0m \u001b[0msegment\u001b[0m \u001b[0;32min\u001b[0m \u001b[0maloc\u001b[0m\u001b[0;34m.\u001b[0m\u001b[0m_segment_list\u001b[0m\u001b[0;34m:\u001b[0m\u001b[0;34m\u001b[0m\u001b[0m\n",
      "\u001b[0;31mTypeError\u001b[0m: 'type' object is not iterable"
     ]
    }
   ],
   "source": [
    "if regions is not None:\n",
    "    # WRITEME: Now we can have a look at the abstract locations (alocs) of the main function's stack region\n",
    "    main_func_region = regions.get('stack_%#x' % main_func.addr)\n",
    "    alocs = main_func_region.alocs\n",
    "\n",
    "    print(\"Abstract locations of the main procedure are:\")\n",
    "    pprint(alocs)\n",
    "\n",
    "    # WRITEME: Derive stack layout information from abstract locations\n",
    "    # you may did a little bit into the source code SimuVEX and claripy to see what members an aloc has.\n",
    "    # related code are abstract_memory.py in SimuVEX and the vsa subpackage in claripy.\n",
    "    # by default, region.alocs is a dict mapping (block address, statement ID) to a list of memory targets.\n",
    "    # what we want is a list of stack offset and size of the corresponding memory access\n",
    "    # let's do it here\n",
    "\n",
    "    stack_layout = defaultdict(set)  # map offset to size\n",
    "    for aloc in alocs.values():\n",
    "        for segment in aloc._segment_list:\n",
    "            stack_layout[segment.offset].add(segment.size)\n",
    "\n",
    "    print(\"The stack layout looks like:\")\n",
    "    for offset in sorted(stack_layout.keys(), reverse=True):\n",
    "        print(\"%#x %s\" % (offset, stack_layout[offset]))"
   ]
  },
  {
   "cell_type": "code",
   "execution_count": null,
   "metadata": {
    "collapsed": true
   },
   "outputs": [],
   "source": []
  }
 ],
 "metadata": {
  "kernelspec": {
   "display_name": "Python [Root]",
   "language": "python",
   "name": "Python [Root]"
  },
  "language_info": {
   "codemirror_mode": {
    "name": "ipython",
    "version": 2
   },
   "file_extension": ".py",
   "mimetype": "text/x-python",
   "name": "python",
   "nbconvert_exporter": "python",
   "pygments_lexer": "ipython2",
   "version": "2.7.12"
  }
 },
 "nbformat": 4,
 "nbformat_minor": 1
}
